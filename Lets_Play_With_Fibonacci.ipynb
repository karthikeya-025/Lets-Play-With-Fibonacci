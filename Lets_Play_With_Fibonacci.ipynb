{
  "nbformat": 4,
  "nbformat_minor": 0,
  "metadata": {
    "colab": {
      "provenance": []
    },
    "kernelspec": {
      "name": "python3",
      "display_name": "Python 3"
    },
    "language_info": {
      "name": "python"
    }
  },
  "cells": [
    {
      "cell_type": "code",
      "execution_count": 18,
      "metadata": {
        "colab": {
          "base_uri": "https://localhost:8080/"
        },
        "id": "czPMK5WBKpui",
        "outputId": "93756a77-6953-4778-f846-6b979f8d0ece"
      },
      "outputs": [
        {
          "output_type": "stream",
          "name": "stdout",
          "text": [
            "0  1  1  2  3  5  8  13  21  34  "
          ]
        }
      ],
      "source": [
        "#using For Loop\n",
        "first = 0\n",
        "second = 1\n",
        "for i in range(50):\n",
        "  if first>50:\n",
        "    break\n",
        "  print(first,' ',end=\"\")\n",
        "  first,second = second,first+second\n",
        "\n"
      ]
    },
    {
      "cell_type": "code",
      "source": [
        "#To get the expected Output we can simply change both of the variables which are declared at the start to 1\n",
        "num1=1\n",
        "num2=1\n",
        "for i in range(50):\n",
        "  if num1>50:\n",
        "    break\n",
        "  print(num1,\" \",end=\"\")\n",
        "  num1,num2=num2,num1+num2\n",
        "\n",
        "print(\"\\n----------------------------------\")\n",
        "\n",
        "#And we can do the same thing with while loop as well\n",
        "a= 1\n",
        "b=1\n",
        "while(a<50):\n",
        "  print(a,\" \",end = \"\")\n",
        "  a,b=b,a+b\n",
        "\n",
        ""
      ],
      "metadata": {
        "colab": {
          "base_uri": "https://localhost:8080/"
        },
        "id": "MsY30ULhPz-M",
        "outputId": "fdec5095-861b-44e8-a010-7a0beb363e22"
      },
      "execution_count": 27,
      "outputs": [
        {
          "output_type": "stream",
          "name": "stdout",
          "text": [
            "1  1  2  3  5  8  13  21  34  \n",
            "----------------------------------\n",
            "1  1  2  3  5  8  13  21  34  "
          ]
        }
      ]
    },
    {
      "cell_type": "code",
      "source": [
        "#using While Loop\n",
        "a= 0\n",
        "b=1\n",
        "while(a<50):\n",
        "  print(a,\" \",end = \"\")\n",
        "  a,b=b,a+b"
      ],
      "metadata": {
        "colab": {
          "base_uri": "https://localhost:8080/"
        },
        "id": "nR9es7F4MlzK",
        "outputId": "42a2ff07-9acb-4da7-c09a-ffe894756336"
      },
      "execution_count": 17,
      "outputs": [
        {
          "output_type": "stream",
          "name": "stdout",
          "text": [
            "0  1  1  2  3  5  8  13  21  34  "
          ]
        }
      ]
    }
  ]
}